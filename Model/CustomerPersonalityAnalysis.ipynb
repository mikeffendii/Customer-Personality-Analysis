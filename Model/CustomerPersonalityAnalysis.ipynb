{
 "cells": [
  {
   "cell_type": "markdown",
   "id": "3ddc3fe6",
   "metadata": {},
   "source": [
    "<h1 style=\"color:orange\" align=\"center\"> Customer Personality Analysis </h1>"
   ]
  },
  {
   "cell_type": "code",
   "execution_count": 1,
   "id": "dc8e4428",
   "metadata": {},
   "outputs": [],
   "source": [
    "import pandas as pd\n",
    "import numpy as np\n",
    "import matplotlib.pyplot as plt\n",
    "\n",
    "%matplotlib inline"
   ]
  },
  {
   "cell_type": "markdown",
   "id": "f60b910f",
   "metadata": {},
   "source": [
    "<h2 style=\"color:orange\" align=\"center\"> Load our Dataset </h2>"
   ]
  },
  {
   "cell_type": "code",
   "execution_count": 2,
   "id": "ffe278c5",
   "metadata": {},
   "outputs": [
    {
     "data": {
      "text/html": [
       "<div>\n",
       "<style scoped>\n",
       "    .dataframe tbody tr th:only-of-type {\n",
       "        vertical-align: middle;\n",
       "    }\n",
       "\n",
       "    .dataframe tbody tr th {\n",
       "        vertical-align: top;\n",
       "    }\n",
       "\n",
       "    .dataframe thead th {\n",
       "        text-align: right;\n",
       "    }\n",
       "</style>\n",
       "<table border=\"1\" class=\"dataframe\">\n",
       "  <thead>\n",
       "    <tr style=\"text-align: right;\">\n",
       "      <th></th>\n",
       "      <th>ID</th>\n",
       "      <th>Year_Birth</th>\n",
       "      <th>Education</th>\n",
       "      <th>Marital_Status</th>\n",
       "      <th>Income</th>\n",
       "      <th>Kidhome</th>\n",
       "      <th>Teenhome</th>\n",
       "      <th>Dt_Customer</th>\n",
       "      <th>Recency</th>\n",
       "      <th>MntWines</th>\n",
       "      <th>...</th>\n",
       "      <th>NumWebVisitsMonth</th>\n",
       "      <th>AcceptedCmp3</th>\n",
       "      <th>AcceptedCmp4</th>\n",
       "      <th>AcceptedCmp5</th>\n",
       "      <th>AcceptedCmp1</th>\n",
       "      <th>AcceptedCmp2</th>\n",
       "      <th>Complain</th>\n",
       "      <th>Z_CostContact</th>\n",
       "      <th>Z_Revenue</th>\n",
       "      <th>Response</th>\n",
       "    </tr>\n",
       "  </thead>\n",
       "  <tbody>\n",
       "    <tr>\n",
       "      <th>0</th>\n",
       "      <td>5524</td>\n",
       "      <td>1957</td>\n",
       "      <td>Graduation</td>\n",
       "      <td>Single</td>\n",
       "      <td>58138.0</td>\n",
       "      <td>0</td>\n",
       "      <td>0</td>\n",
       "      <td>04-09-2012</td>\n",
       "      <td>58</td>\n",
       "      <td>635</td>\n",
       "      <td>...</td>\n",
       "      <td>7</td>\n",
       "      <td>0</td>\n",
       "      <td>0</td>\n",
       "      <td>0</td>\n",
       "      <td>0</td>\n",
       "      <td>0</td>\n",
       "      <td>0</td>\n",
       "      <td>3</td>\n",
       "      <td>11</td>\n",
       "      <td>1</td>\n",
       "    </tr>\n",
       "    <tr>\n",
       "      <th>1</th>\n",
       "      <td>2174</td>\n",
       "      <td>1954</td>\n",
       "      <td>Graduation</td>\n",
       "      <td>Single</td>\n",
       "      <td>46344.0</td>\n",
       "      <td>1</td>\n",
       "      <td>1</td>\n",
       "      <td>08-03-2014</td>\n",
       "      <td>38</td>\n",
       "      <td>11</td>\n",
       "      <td>...</td>\n",
       "      <td>5</td>\n",
       "      <td>0</td>\n",
       "      <td>0</td>\n",
       "      <td>0</td>\n",
       "      <td>0</td>\n",
       "      <td>0</td>\n",
       "      <td>0</td>\n",
       "      <td>3</td>\n",
       "      <td>11</td>\n",
       "      <td>0</td>\n",
       "    </tr>\n",
       "    <tr>\n",
       "      <th>2</th>\n",
       "      <td>4141</td>\n",
       "      <td>1965</td>\n",
       "      <td>Graduation</td>\n",
       "      <td>Together</td>\n",
       "      <td>71613.0</td>\n",
       "      <td>0</td>\n",
       "      <td>0</td>\n",
       "      <td>21-08-2013</td>\n",
       "      <td>26</td>\n",
       "      <td>426</td>\n",
       "      <td>...</td>\n",
       "      <td>4</td>\n",
       "      <td>0</td>\n",
       "      <td>0</td>\n",
       "      <td>0</td>\n",
       "      <td>0</td>\n",
       "      <td>0</td>\n",
       "      <td>0</td>\n",
       "      <td>3</td>\n",
       "      <td>11</td>\n",
       "      <td>0</td>\n",
       "    </tr>\n",
       "    <tr>\n",
       "      <th>3</th>\n",
       "      <td>6182</td>\n",
       "      <td>1984</td>\n",
       "      <td>Graduation</td>\n",
       "      <td>Together</td>\n",
       "      <td>26646.0</td>\n",
       "      <td>1</td>\n",
       "      <td>0</td>\n",
       "      <td>10-02-2014</td>\n",
       "      <td>26</td>\n",
       "      <td>11</td>\n",
       "      <td>...</td>\n",
       "      <td>6</td>\n",
       "      <td>0</td>\n",
       "      <td>0</td>\n",
       "      <td>0</td>\n",
       "      <td>0</td>\n",
       "      <td>0</td>\n",
       "      <td>0</td>\n",
       "      <td>3</td>\n",
       "      <td>11</td>\n",
       "      <td>0</td>\n",
       "    </tr>\n",
       "    <tr>\n",
       "      <th>4</th>\n",
       "      <td>5324</td>\n",
       "      <td>1981</td>\n",
       "      <td>PhD</td>\n",
       "      <td>Married</td>\n",
       "      <td>58293.0</td>\n",
       "      <td>1</td>\n",
       "      <td>0</td>\n",
       "      <td>19-01-2014</td>\n",
       "      <td>94</td>\n",
       "      <td>173</td>\n",
       "      <td>...</td>\n",
       "      <td>5</td>\n",
       "      <td>0</td>\n",
       "      <td>0</td>\n",
       "      <td>0</td>\n",
       "      <td>0</td>\n",
       "      <td>0</td>\n",
       "      <td>0</td>\n",
       "      <td>3</td>\n",
       "      <td>11</td>\n",
       "      <td>0</td>\n",
       "    </tr>\n",
       "    <tr>\n",
       "      <th>...</th>\n",
       "      <td>...</td>\n",
       "      <td>...</td>\n",
       "      <td>...</td>\n",
       "      <td>...</td>\n",
       "      <td>...</td>\n",
       "      <td>...</td>\n",
       "      <td>...</td>\n",
       "      <td>...</td>\n",
       "      <td>...</td>\n",
       "      <td>...</td>\n",
       "      <td>...</td>\n",
       "      <td>...</td>\n",
       "      <td>...</td>\n",
       "      <td>...</td>\n",
       "      <td>...</td>\n",
       "      <td>...</td>\n",
       "      <td>...</td>\n",
       "      <td>...</td>\n",
       "      <td>...</td>\n",
       "      <td>...</td>\n",
       "      <td>...</td>\n",
       "    </tr>\n",
       "    <tr>\n",
       "      <th>2235</th>\n",
       "      <td>10870</td>\n",
       "      <td>1967</td>\n",
       "      <td>Graduation</td>\n",
       "      <td>Married</td>\n",
       "      <td>61223.0</td>\n",
       "      <td>0</td>\n",
       "      <td>1</td>\n",
       "      <td>13-06-2013</td>\n",
       "      <td>46</td>\n",
       "      <td>709</td>\n",
       "      <td>...</td>\n",
       "      <td>5</td>\n",
       "      <td>0</td>\n",
       "      <td>0</td>\n",
       "      <td>0</td>\n",
       "      <td>0</td>\n",
       "      <td>0</td>\n",
       "      <td>0</td>\n",
       "      <td>3</td>\n",
       "      <td>11</td>\n",
       "      <td>0</td>\n",
       "    </tr>\n",
       "    <tr>\n",
       "      <th>2236</th>\n",
       "      <td>4001</td>\n",
       "      <td>1946</td>\n",
       "      <td>PhD</td>\n",
       "      <td>Together</td>\n",
       "      <td>64014.0</td>\n",
       "      <td>2</td>\n",
       "      <td>1</td>\n",
       "      <td>10-06-2014</td>\n",
       "      <td>56</td>\n",
       "      <td>406</td>\n",
       "      <td>...</td>\n",
       "      <td>7</td>\n",
       "      <td>0</td>\n",
       "      <td>0</td>\n",
       "      <td>0</td>\n",
       "      <td>1</td>\n",
       "      <td>0</td>\n",
       "      <td>0</td>\n",
       "      <td>3</td>\n",
       "      <td>11</td>\n",
       "      <td>0</td>\n",
       "    </tr>\n",
       "    <tr>\n",
       "      <th>2237</th>\n",
       "      <td>7270</td>\n",
       "      <td>1981</td>\n",
       "      <td>Graduation</td>\n",
       "      <td>Divorced</td>\n",
       "      <td>56981.0</td>\n",
       "      <td>0</td>\n",
       "      <td>0</td>\n",
       "      <td>25-01-2014</td>\n",
       "      <td>91</td>\n",
       "      <td>908</td>\n",
       "      <td>...</td>\n",
       "      <td>6</td>\n",
       "      <td>0</td>\n",
       "      <td>1</td>\n",
       "      <td>0</td>\n",
       "      <td>0</td>\n",
       "      <td>0</td>\n",
       "      <td>0</td>\n",
       "      <td>3</td>\n",
       "      <td>11</td>\n",
       "      <td>0</td>\n",
       "    </tr>\n",
       "    <tr>\n",
       "      <th>2238</th>\n",
       "      <td>8235</td>\n",
       "      <td>1956</td>\n",
       "      <td>Master</td>\n",
       "      <td>Together</td>\n",
       "      <td>69245.0</td>\n",
       "      <td>0</td>\n",
       "      <td>1</td>\n",
       "      <td>24-01-2014</td>\n",
       "      <td>8</td>\n",
       "      <td>428</td>\n",
       "      <td>...</td>\n",
       "      <td>3</td>\n",
       "      <td>0</td>\n",
       "      <td>0</td>\n",
       "      <td>0</td>\n",
       "      <td>0</td>\n",
       "      <td>0</td>\n",
       "      <td>0</td>\n",
       "      <td>3</td>\n",
       "      <td>11</td>\n",
       "      <td>0</td>\n",
       "    </tr>\n",
       "    <tr>\n",
       "      <th>2239</th>\n",
       "      <td>9405</td>\n",
       "      <td>1954</td>\n",
       "      <td>PhD</td>\n",
       "      <td>Married</td>\n",
       "      <td>52869.0</td>\n",
       "      <td>1</td>\n",
       "      <td>1</td>\n",
       "      <td>15-10-2012</td>\n",
       "      <td>40</td>\n",
       "      <td>84</td>\n",
       "      <td>...</td>\n",
       "      <td>7</td>\n",
       "      <td>0</td>\n",
       "      <td>0</td>\n",
       "      <td>0</td>\n",
       "      <td>0</td>\n",
       "      <td>0</td>\n",
       "      <td>0</td>\n",
       "      <td>3</td>\n",
       "      <td>11</td>\n",
       "      <td>1</td>\n",
       "    </tr>\n",
       "  </tbody>\n",
       "</table>\n",
       "<p>2240 rows × 29 columns</p>\n",
       "</div>"
      ],
      "text/plain": [
       "         ID  Year_Birth   Education Marital_Status   Income  Kidhome  \\\n",
       "0      5524        1957  Graduation         Single  58138.0        0   \n",
       "1      2174        1954  Graduation         Single  46344.0        1   \n",
       "2      4141        1965  Graduation       Together  71613.0        0   \n",
       "3      6182        1984  Graduation       Together  26646.0        1   \n",
       "4      5324        1981         PhD        Married  58293.0        1   \n",
       "...     ...         ...         ...            ...      ...      ...   \n",
       "2235  10870        1967  Graduation        Married  61223.0        0   \n",
       "2236   4001        1946         PhD       Together  64014.0        2   \n",
       "2237   7270        1981  Graduation       Divorced  56981.0        0   \n",
       "2238   8235        1956      Master       Together  69245.0        0   \n",
       "2239   9405        1954         PhD        Married  52869.0        1   \n",
       "\n",
       "      Teenhome Dt_Customer  Recency  MntWines  ...  NumWebVisitsMonth  \\\n",
       "0            0  04-09-2012       58       635  ...                  7   \n",
       "1            1  08-03-2014       38        11  ...                  5   \n",
       "2            0  21-08-2013       26       426  ...                  4   \n",
       "3            0  10-02-2014       26        11  ...                  6   \n",
       "4            0  19-01-2014       94       173  ...                  5   \n",
       "...        ...         ...      ...       ...  ...                ...   \n",
       "2235         1  13-06-2013       46       709  ...                  5   \n",
       "2236         1  10-06-2014       56       406  ...                  7   \n",
       "2237         0  25-01-2014       91       908  ...                  6   \n",
       "2238         1  24-01-2014        8       428  ...                  3   \n",
       "2239         1  15-10-2012       40        84  ...                  7   \n",
       "\n",
       "      AcceptedCmp3  AcceptedCmp4  AcceptedCmp5  AcceptedCmp1  AcceptedCmp2  \\\n",
       "0                0             0             0             0             0   \n",
       "1                0             0             0             0             0   \n",
       "2                0             0             0             0             0   \n",
       "3                0             0             0             0             0   \n",
       "4                0             0             0             0             0   \n",
       "...            ...           ...           ...           ...           ...   \n",
       "2235             0             0             0             0             0   \n",
       "2236             0             0             0             1             0   \n",
       "2237             0             1             0             0             0   \n",
       "2238             0             0             0             0             0   \n",
       "2239             0             0             0             0             0   \n",
       "\n",
       "      Complain  Z_CostContact  Z_Revenue  Response  \n",
       "0            0              3         11         1  \n",
       "1            0              3         11         0  \n",
       "2            0              3         11         0  \n",
       "3            0              3         11         0  \n",
       "4            0              3         11         0  \n",
       "...        ...            ...        ...       ...  \n",
       "2235         0              3         11         0  \n",
       "2236         0              3         11         0  \n",
       "2237         0              3         11         0  \n",
       "2238         0              3         11         0  \n",
       "2239         0              3         11         1  \n",
       "\n",
       "[2240 rows x 29 columns]"
      ]
     },
     "execution_count": 2,
     "metadata": {},
     "output_type": "execute_result"
    }
   ],
   "source": [
    "# loading in our data\n",
    "df = pd.read_csv(\"marketing_campaign.csv\",sep=\"\\t\")\n",
    "df"
   ]
  },
  {
   "cell_type": "markdown",
   "id": "74f03930",
   "metadata": {},
   "source": [
    "<h2 style=\"color:orange\" align=\"center\">Dataset Description </h2>\n",
    "\n",
    "<h3 style=\"color:orange\" align=\"center\">Our dataset called \"Customer Personality Analysis\" and it is from Kaggle https://www.kaggle.com/imakash3011/customer-personality-analysis. The dataset collected the information from the target customers regarding their behaviors in the business. It contains the customers' year of birth, education level, marital status, income, number of children or teenagers, the purchase amounts of different products, the differenct purchasing places(Web, store,etc.), the campaign accepted status, and so on. There is a more specific description of our attributes below. </h3>"
   ]
  },
  {
   "cell_type": "markdown",
   "id": "1d6e4c41",
   "metadata": {},
   "source": [
    "<h2 style=\"color:orange\">1. Attributes </h2>\n",
    "\n",
    "### People\n",
    "\n",
    "-ID: Customer's unique identifier\n",
    "\n",
    "-Year_Birth: Customer's birth year\n",
    "\n",
    "-Education: Customer's education level\n",
    "\n",
    "-Marital_Status: Customer's marital status\n",
    "\n",
    "-Income: Customer's yearly household income\n",
    "\n",
    "-Kidhome: Number of children in customer's household\n",
    "\n",
    "-Teenhome: Number of teenagers in customer's household\n",
    "\n",
    "-Dt_Customer: Date of customer's enrollment with the company\n",
    "\n",
    "-Recency: Number of days since customer's last purchase\n",
    "\n",
    "-Complain: 1 if customer complained in the last 2 years, 0 otherwise\n",
    "\n",
    "### Products\n",
    "\n",
    "-MntWines: Amount spent on wine in last 2 years\n",
    "\n",
    "-MntFruits: Amount spent on fruits in last 2 years\n",
    "\n",
    "-MntMeatProducts: Amount spent on meat in last 2 years\n",
    "\n",
    "-MntFishProducts: Amount spent on fish in last 2 years\n",
    "\n",
    "-MntSweetProducts: Amount spent on sweets in last 2 years\n",
    "\n",
    "-MntGoldProds: Amount spent on gold in last 2 years\n",
    "\n",
    "### Promotion\n",
    "\n",
    "-NumDealsPurchases: Number of purchases made with a discount\n",
    "\n",
    "-AcceptedCmp1: 1 if customer accepted the offer in the 1st campaign, 0 otherwise\n",
    "\n",
    "-AcceptedCmp2: 1 if customer accepted the offer in the 2nd campaign, 0 otherwise\n",
    "\n",
    "-AcceptedCmp3: 1 if customer accepted the offer in the 3rd campaign, 0 otherwise\n",
    "\n",
    "-AcceptedCmp4: 1 if customer accepted the offer in the 4th campaign, 0 otherwise\n",
    "\n",
    "-AcceptedCmp5: 1 if customer accepted the offer in the 5th campaign, 0 otherwise\n",
    "\n",
    "-Response: 1 if customer accepted the offer in the last campaign, 0 otherwise\n",
    "\n",
    "### Place\n",
    "\n",
    "-NumWebPurchases: Number of purchases made through the company’s web site\n",
    "\n",
    "-NumCatalogPurchases: Number of purchases made using a catalogue\n",
    "\n",
    "-NumStorePurchases: Number of purchases made directly in stores\n",
    "\n",
    "-NumWebVisitsMonth: Number of visits to company’s web site in the last month\n",
    "\n",
    "#### Source: https://www.kaggle.com/imakash3011/customer-personality-analysis"
   ]
  },
  {
   "cell_type": "markdown",
   "id": "8fa11355",
   "metadata": {},
   "source": [
    "<h2 style=\"color:orange\" > 2. Data Cleaning and Preparation </h2>"
   ]
  },
  {
   "cell_type": "markdown",
   "id": "0928aac2",
   "metadata": {},
   "source": [
    "\"Customer Personality Analysis\" is a relative large dataset for this project, which has a total of 2,240 rows, so we decide to reduce it to no more than 2000 observations in the data cleaning process. \n",
    "\n",
    "Since reducing the number of observations is one of the objectives, we plan to directly drop null values instead of replacing them with mean values. "
   ]
  },
  {
   "cell_type": "code",
   "execution_count": 3,
   "id": "99345d66",
   "metadata": {
    "scrolled": false
   },
   "outputs": [],
   "source": [
    "# 1. Drop null values\n",
    "df.isnull().sum() # check which column contain null\n",
    "# Since \"Income\" column has 24 null values, we drop 24 observations\n",
    "df = df.dropna()"
   ]
  },
  {
   "cell_type": "code",
   "execution_count": 4,
   "id": "0c043854",
   "metadata": {},
   "outputs": [],
   "source": [
    "# 2. Drop “Income\" outlier\n",
    "# Our customers have a wide range of yearly household income. \n",
    "# However, when looking at the dataset, there is a outlier which is 666,666, so we drop it. \n",
    "df = df.drop(df[(df['Income'] > 200000)].index)"
   ]
  },
  {
   "cell_type": "code",
   "execution_count": 5,
   "id": "8e5dc273",
   "metadata": {
    "scrolled": true
   },
   "outputs": [
    {
     "data": {
      "text/html": [
       "<div>\n",
       "<style scoped>\n",
       "    .dataframe tbody tr th:only-of-type {\n",
       "        vertical-align: middle;\n",
       "    }\n",
       "\n",
       "    .dataframe tbody tr th {\n",
       "        vertical-align: top;\n",
       "    }\n",
       "\n",
       "    .dataframe thead th {\n",
       "        text-align: right;\n",
       "    }\n",
       "</style>\n",
       "<table border=\"1\" class=\"dataframe\">\n",
       "  <thead>\n",
       "    <tr style=\"text-align: right;\">\n",
       "      <th></th>\n",
       "      <th>ID</th>\n",
       "      <th>Year_Birth</th>\n",
       "      <th>Education</th>\n",
       "      <th>Marital_Status</th>\n",
       "      <th>Income</th>\n",
       "      <th>Kidhome</th>\n",
       "      <th>Teenhome</th>\n",
       "      <th>Dt_Customer</th>\n",
       "      <th>Recency</th>\n",
       "      <th>MntWines</th>\n",
       "      <th>...</th>\n",
       "      <th>NumWebVisitsMonth</th>\n",
       "      <th>AcceptedCmp3</th>\n",
       "      <th>AcceptedCmp4</th>\n",
       "      <th>AcceptedCmp5</th>\n",
       "      <th>AcceptedCmp1</th>\n",
       "      <th>AcceptedCmp2</th>\n",
       "      <th>Complain</th>\n",
       "      <th>Z_CostContact</th>\n",
       "      <th>Z_Revenue</th>\n",
       "      <th>Response</th>\n",
       "    </tr>\n",
       "  </thead>\n",
       "  <tbody>\n",
       "    <tr>\n",
       "      <th>0</th>\n",
       "      <td>5524</td>\n",
       "      <td>1957</td>\n",
       "      <td>Graduation</td>\n",
       "      <td>Single</td>\n",
       "      <td>58138.0</td>\n",
       "      <td>0</td>\n",
       "      <td>0</td>\n",
       "      <td>04-09-2012</td>\n",
       "      <td>58</td>\n",
       "      <td>635</td>\n",
       "      <td>...</td>\n",
       "      <td>7</td>\n",
       "      <td>0</td>\n",
       "      <td>0</td>\n",
       "      <td>0</td>\n",
       "      <td>0</td>\n",
       "      <td>0</td>\n",
       "      <td>0</td>\n",
       "      <td>3</td>\n",
       "      <td>11</td>\n",
       "      <td>1</td>\n",
       "    </tr>\n",
       "    <tr>\n",
       "      <th>1</th>\n",
       "      <td>2174</td>\n",
       "      <td>1954</td>\n",
       "      <td>Graduation</td>\n",
       "      <td>Single</td>\n",
       "      <td>46344.0</td>\n",
       "      <td>1</td>\n",
       "      <td>1</td>\n",
       "      <td>08-03-2014</td>\n",
       "      <td>38</td>\n",
       "      <td>11</td>\n",
       "      <td>...</td>\n",
       "      <td>5</td>\n",
       "      <td>0</td>\n",
       "      <td>0</td>\n",
       "      <td>0</td>\n",
       "      <td>0</td>\n",
       "      <td>0</td>\n",
       "      <td>0</td>\n",
       "      <td>3</td>\n",
       "      <td>11</td>\n",
       "      <td>0</td>\n",
       "    </tr>\n",
       "    <tr>\n",
       "      <th>2</th>\n",
       "      <td>4141</td>\n",
       "      <td>1965</td>\n",
       "      <td>Graduation</td>\n",
       "      <td>Together</td>\n",
       "      <td>71613.0</td>\n",
       "      <td>0</td>\n",
       "      <td>0</td>\n",
       "      <td>21-08-2013</td>\n",
       "      <td>26</td>\n",
       "      <td>426</td>\n",
       "      <td>...</td>\n",
       "      <td>4</td>\n",
       "      <td>0</td>\n",
       "      <td>0</td>\n",
       "      <td>0</td>\n",
       "      <td>0</td>\n",
       "      <td>0</td>\n",
       "      <td>0</td>\n",
       "      <td>3</td>\n",
       "      <td>11</td>\n",
       "      <td>0</td>\n",
       "    </tr>\n",
       "    <tr>\n",
       "      <th>3</th>\n",
       "      <td>6182</td>\n",
       "      <td>1984</td>\n",
       "      <td>Graduation</td>\n",
       "      <td>Together</td>\n",
       "      <td>26646.0</td>\n",
       "      <td>1</td>\n",
       "      <td>0</td>\n",
       "      <td>10-02-2014</td>\n",
       "      <td>26</td>\n",
       "      <td>11</td>\n",
       "      <td>...</td>\n",
       "      <td>6</td>\n",
       "      <td>0</td>\n",
       "      <td>0</td>\n",
       "      <td>0</td>\n",
       "      <td>0</td>\n",
       "      <td>0</td>\n",
       "      <td>0</td>\n",
       "      <td>3</td>\n",
       "      <td>11</td>\n",
       "      <td>0</td>\n",
       "    </tr>\n",
       "    <tr>\n",
       "      <th>5</th>\n",
       "      <td>7446</td>\n",
       "      <td>1967</td>\n",
       "      <td>Master</td>\n",
       "      <td>Together</td>\n",
       "      <td>62513.0</td>\n",
       "      <td>0</td>\n",
       "      <td>1</td>\n",
       "      <td>09-09-2013</td>\n",
       "      <td>16</td>\n",
       "      <td>520</td>\n",
       "      <td>...</td>\n",
       "      <td>6</td>\n",
       "      <td>0</td>\n",
       "      <td>0</td>\n",
       "      <td>0</td>\n",
       "      <td>0</td>\n",
       "      <td>0</td>\n",
       "      <td>0</td>\n",
       "      <td>3</td>\n",
       "      <td>11</td>\n",
       "      <td>0</td>\n",
       "    </tr>\n",
       "    <tr>\n",
       "      <th>...</th>\n",
       "      <td>...</td>\n",
       "      <td>...</td>\n",
       "      <td>...</td>\n",
       "      <td>...</td>\n",
       "      <td>...</td>\n",
       "      <td>...</td>\n",
       "      <td>...</td>\n",
       "      <td>...</td>\n",
       "      <td>...</td>\n",
       "      <td>...</td>\n",
       "      <td>...</td>\n",
       "      <td>...</td>\n",
       "      <td>...</td>\n",
       "      <td>...</td>\n",
       "      <td>...</td>\n",
       "      <td>...</td>\n",
       "      <td>...</td>\n",
       "      <td>...</td>\n",
       "      <td>...</td>\n",
       "      <td>...</td>\n",
       "      <td>...</td>\n",
       "    </tr>\n",
       "    <tr>\n",
       "      <th>2234</th>\n",
       "      <td>8372</td>\n",
       "      <td>1974</td>\n",
       "      <td>Graduation</td>\n",
       "      <td>Married</td>\n",
       "      <td>34421.0</td>\n",
       "      <td>1</td>\n",
       "      <td>0</td>\n",
       "      <td>01-07-2013</td>\n",
       "      <td>81</td>\n",
       "      <td>3</td>\n",
       "      <td>...</td>\n",
       "      <td>7</td>\n",
       "      <td>0</td>\n",
       "      <td>0</td>\n",
       "      <td>0</td>\n",
       "      <td>0</td>\n",
       "      <td>0</td>\n",
       "      <td>0</td>\n",
       "      <td>3</td>\n",
       "      <td>11</td>\n",
       "      <td>0</td>\n",
       "    </tr>\n",
       "    <tr>\n",
       "      <th>2235</th>\n",
       "      <td>10870</td>\n",
       "      <td>1967</td>\n",
       "      <td>Graduation</td>\n",
       "      <td>Married</td>\n",
       "      <td>61223.0</td>\n",
       "      <td>0</td>\n",
       "      <td>1</td>\n",
       "      <td>13-06-2013</td>\n",
       "      <td>46</td>\n",
       "      <td>709</td>\n",
       "      <td>...</td>\n",
       "      <td>5</td>\n",
       "      <td>0</td>\n",
       "      <td>0</td>\n",
       "      <td>0</td>\n",
       "      <td>0</td>\n",
       "      <td>0</td>\n",
       "      <td>0</td>\n",
       "      <td>3</td>\n",
       "      <td>11</td>\n",
       "      <td>0</td>\n",
       "    </tr>\n",
       "    <tr>\n",
       "      <th>2236</th>\n",
       "      <td>4001</td>\n",
       "      <td>1946</td>\n",
       "      <td>PhD</td>\n",
       "      <td>Together</td>\n",
       "      <td>64014.0</td>\n",
       "      <td>2</td>\n",
       "      <td>1</td>\n",
       "      <td>10-06-2014</td>\n",
       "      <td>56</td>\n",
       "      <td>406</td>\n",
       "      <td>...</td>\n",
       "      <td>7</td>\n",
       "      <td>0</td>\n",
       "      <td>0</td>\n",
       "      <td>0</td>\n",
       "      <td>1</td>\n",
       "      <td>0</td>\n",
       "      <td>0</td>\n",
       "      <td>3</td>\n",
       "      <td>11</td>\n",
       "      <td>0</td>\n",
       "    </tr>\n",
       "    <tr>\n",
       "      <th>2238</th>\n",
       "      <td>8235</td>\n",
       "      <td>1956</td>\n",
       "      <td>Master</td>\n",
       "      <td>Together</td>\n",
       "      <td>69245.0</td>\n",
       "      <td>0</td>\n",
       "      <td>1</td>\n",
       "      <td>24-01-2014</td>\n",
       "      <td>8</td>\n",
       "      <td>428</td>\n",
       "      <td>...</td>\n",
       "      <td>3</td>\n",
       "      <td>0</td>\n",
       "      <td>0</td>\n",
       "      <td>0</td>\n",
       "      <td>0</td>\n",
       "      <td>0</td>\n",
       "      <td>0</td>\n",
       "      <td>3</td>\n",
       "      <td>11</td>\n",
       "      <td>0</td>\n",
       "    </tr>\n",
       "    <tr>\n",
       "      <th>2239</th>\n",
       "      <td>9405</td>\n",
       "      <td>1954</td>\n",
       "      <td>PhD</td>\n",
       "      <td>Married</td>\n",
       "      <td>52869.0</td>\n",
       "      <td>1</td>\n",
       "      <td>1</td>\n",
       "      <td>15-10-2012</td>\n",
       "      <td>40</td>\n",
       "      <td>84</td>\n",
       "      <td>...</td>\n",
       "      <td>7</td>\n",
       "      <td>0</td>\n",
       "      <td>0</td>\n",
       "      <td>0</td>\n",
       "      <td>0</td>\n",
       "      <td>0</td>\n",
       "      <td>0</td>\n",
       "      <td>3</td>\n",
       "      <td>11</td>\n",
       "      <td>1</td>\n",
       "    </tr>\n",
       "  </tbody>\n",
       "</table>\n",
       "<p>2000 rows × 29 columns</p>\n",
       "</div>"
      ],
      "text/plain": [
       "         ID  Year_Birth   Education Marital_Status   Income  Kidhome  \\\n",
       "0      5524        1957  Graduation         Single  58138.0        0   \n",
       "1      2174        1954  Graduation         Single  46344.0        1   \n",
       "2      4141        1965  Graduation       Together  71613.0        0   \n",
       "3      6182        1984  Graduation       Together  26646.0        1   \n",
       "5      7446        1967      Master       Together  62513.0        0   \n",
       "...     ...         ...         ...            ...      ...      ...   \n",
       "2234   8372        1974  Graduation        Married  34421.0        1   \n",
       "2235  10870        1967  Graduation        Married  61223.0        0   \n",
       "2236   4001        1946         PhD       Together  64014.0        2   \n",
       "2238   8235        1956      Master       Together  69245.0        0   \n",
       "2239   9405        1954         PhD        Married  52869.0        1   \n",
       "\n",
       "      Teenhome Dt_Customer  Recency  MntWines  ...  NumWebVisitsMonth  \\\n",
       "0            0  04-09-2012       58       635  ...                  7   \n",
       "1            1  08-03-2014       38        11  ...                  5   \n",
       "2            0  21-08-2013       26       426  ...                  4   \n",
       "3            0  10-02-2014       26        11  ...                  6   \n",
       "5            1  09-09-2013       16       520  ...                  6   \n",
       "...        ...         ...      ...       ...  ...                ...   \n",
       "2234         0  01-07-2013       81         3  ...                  7   \n",
       "2235         1  13-06-2013       46       709  ...                  5   \n",
       "2236         1  10-06-2014       56       406  ...                  7   \n",
       "2238         1  24-01-2014        8       428  ...                  3   \n",
       "2239         1  15-10-2012       40        84  ...                  7   \n",
       "\n",
       "      AcceptedCmp3  AcceptedCmp4  AcceptedCmp5  AcceptedCmp1  AcceptedCmp2  \\\n",
       "0                0             0             0             0             0   \n",
       "1                0             0             0             0             0   \n",
       "2                0             0             0             0             0   \n",
       "3                0             0             0             0             0   \n",
       "5                0             0             0             0             0   \n",
       "...            ...           ...           ...           ...           ...   \n",
       "2234             0             0             0             0             0   \n",
       "2235             0             0             0             0             0   \n",
       "2236             0             0             0             1             0   \n",
       "2238             0             0             0             0             0   \n",
       "2239             0             0             0             0             0   \n",
       "\n",
       "      Complain  Z_CostContact  Z_Revenue  Response  \n",
       "0            0              3         11         1  \n",
       "1            0              3         11         0  \n",
       "2            0              3         11         0  \n",
       "3            0              3         11         0  \n",
       "5            0              3         11         0  \n",
       "...        ...            ...        ...       ...  \n",
       "2234         0              3         11         0  \n",
       "2235         0              3         11         0  \n",
       "2236         0              3         11         0  \n",
       "2238         0              3         11         0  \n",
       "2239         0              3         11         1  \n",
       "\n",
       "[2000 rows x 29 columns]"
      ]
     },
     "execution_count": 5,
     "metadata": {},
     "output_type": "execute_result"
    }
   ],
   "source": [
    "# 3. Drop rows with \"Recency\" >= 90\n",
    "# Those customers' last purchase day is at least 90 days ago, since it has been a long time they didn't purchase our product, we regard these customers' information are not that useful and drop those rows\n",
    "df = df.drop(df[(df['Recency'] >= 90)].index)\n",
    "df"
   ]
  },
  {
   "cell_type": "code",
   "execution_count": 6,
   "id": "62cffcd5",
   "metadata": {},
   "outputs": [],
   "source": [
    "# 4. Convert categorical features to numerical values\n",
    "df['Marital_Status'].replace(to_replace=['Single','Alone','Divorced','Absurd','YOLO','Widow'], \n",
    "                             value=[0,0,0,0,0,0],inplace=True)\n",
    "df['Marital_Status'].replace(to_replace=['Married','Together'], value=[1,1],inplace=True)\n",
    "# Divided into 2 groups\n",
    "# 0: 'Single','Alone','Divorced','Absurd','YOLO','Widow'\n",
    "# 1: 'Married','Together'\n",
    "\n",
    "df['Education'].replace(to_replace=['Basic','2n Cycle','Graduation','Master','PhD'], value=[0,0,1,2,2],inplace=True)\n",
    "# Basic: 0, 2n Cycle: 0, (Undergraduate)\n",
    "# Graduation: 1, (Graduate)\n",
    "# Master: 2, PhD: 2 (Postgraduate)"
   ]
  },
  {
   "cell_type": "code",
   "execution_count": 7,
   "id": "65e3759b",
   "metadata": {
    "scrolled": false
   },
   "outputs": [],
   "source": [
    "# 5. Create a age column\n",
    "age = []\n",
    "for i in df['Year_Birth']:\n",
    "    age.append(2021-i)\n",
    "df['age'] = age"
   ]
  },
  {
   "cell_type": "code",
   "execution_count": 8,
   "id": "3adfbea1",
   "metadata": {},
   "outputs": [],
   "source": [
    "# 6. Combine 'Kidhome' and 'Teenhome' as one column named 'child'\n",
    "df['child'] = df.Kidhome.values + df.Teenhome.values"
   ]
  },
  {
   "cell_type": "code",
   "execution_count": 9,
   "id": "f1fd1ea8",
   "metadata": {},
   "outputs": [
    {
     "data": {
      "text/html": [
       "<div>\n",
       "<style scoped>\n",
       "    .dataframe tbody tr th:only-of-type {\n",
       "        vertical-align: middle;\n",
       "    }\n",
       "\n",
       "    .dataframe tbody tr th {\n",
       "        vertical-align: top;\n",
       "    }\n",
       "\n",
       "    .dataframe thead th {\n",
       "        text-align: right;\n",
       "    }\n",
       "</style>\n",
       "<table border=\"1\" class=\"dataframe\">\n",
       "  <thead>\n",
       "    <tr style=\"text-align: right;\">\n",
       "      <th></th>\n",
       "      <th>Education</th>\n",
       "      <th>Marital_Status</th>\n",
       "      <th>Income</th>\n",
       "      <th>Recency</th>\n",
       "      <th>MntWines</th>\n",
       "      <th>MntFruits</th>\n",
       "      <th>MntFishProducts</th>\n",
       "      <th>MntSweetProducts</th>\n",
       "      <th>MntGoldProds</th>\n",
       "      <th>NumDealsPurchases</th>\n",
       "      <th>NumWebPurchases</th>\n",
       "      <th>NumStorePurchases</th>\n",
       "      <th>age</th>\n",
       "      <th>child</th>\n",
       "      <th>Response</th>\n",
       "    </tr>\n",
       "  </thead>\n",
       "  <tbody>\n",
       "    <tr>\n",
       "      <th>0</th>\n",
       "      <td>1</td>\n",
       "      <td>0</td>\n",
       "      <td>58138.0</td>\n",
       "      <td>58</td>\n",
       "      <td>635</td>\n",
       "      <td>88</td>\n",
       "      <td>172</td>\n",
       "      <td>88</td>\n",
       "      <td>88</td>\n",
       "      <td>3</td>\n",
       "      <td>8</td>\n",
       "      <td>4</td>\n",
       "      <td>64</td>\n",
       "      <td>0</td>\n",
       "      <td>1</td>\n",
       "    </tr>\n",
       "    <tr>\n",
       "      <th>1</th>\n",
       "      <td>1</td>\n",
       "      <td>0</td>\n",
       "      <td>46344.0</td>\n",
       "      <td>38</td>\n",
       "      <td>11</td>\n",
       "      <td>1</td>\n",
       "      <td>2</td>\n",
       "      <td>1</td>\n",
       "      <td>6</td>\n",
       "      <td>2</td>\n",
       "      <td>1</td>\n",
       "      <td>2</td>\n",
       "      <td>67</td>\n",
       "      <td>2</td>\n",
       "      <td>0</td>\n",
       "    </tr>\n",
       "    <tr>\n",
       "      <th>2</th>\n",
       "      <td>1</td>\n",
       "      <td>1</td>\n",
       "      <td>71613.0</td>\n",
       "      <td>26</td>\n",
       "      <td>426</td>\n",
       "      <td>49</td>\n",
       "      <td>111</td>\n",
       "      <td>21</td>\n",
       "      <td>42</td>\n",
       "      <td>1</td>\n",
       "      <td>8</td>\n",
       "      <td>10</td>\n",
       "      <td>56</td>\n",
       "      <td>0</td>\n",
       "      <td>0</td>\n",
       "    </tr>\n",
       "    <tr>\n",
       "      <th>3</th>\n",
       "      <td>1</td>\n",
       "      <td>1</td>\n",
       "      <td>26646.0</td>\n",
       "      <td>26</td>\n",
       "      <td>11</td>\n",
       "      <td>4</td>\n",
       "      <td>10</td>\n",
       "      <td>3</td>\n",
       "      <td>5</td>\n",
       "      <td>2</td>\n",
       "      <td>2</td>\n",
       "      <td>4</td>\n",
       "      <td>37</td>\n",
       "      <td>1</td>\n",
       "      <td>0</td>\n",
       "    </tr>\n",
       "    <tr>\n",
       "      <th>5</th>\n",
       "      <td>2</td>\n",
       "      <td>1</td>\n",
       "      <td>62513.0</td>\n",
       "      <td>16</td>\n",
       "      <td>520</td>\n",
       "      <td>42</td>\n",
       "      <td>0</td>\n",
       "      <td>42</td>\n",
       "      <td>14</td>\n",
       "      <td>2</td>\n",
       "      <td>6</td>\n",
       "      <td>10</td>\n",
       "      <td>54</td>\n",
       "      <td>1</td>\n",
       "      <td>0</td>\n",
       "    </tr>\n",
       "    <tr>\n",
       "      <th>...</th>\n",
       "      <td>...</td>\n",
       "      <td>...</td>\n",
       "      <td>...</td>\n",
       "      <td>...</td>\n",
       "      <td>...</td>\n",
       "      <td>...</td>\n",
       "      <td>...</td>\n",
       "      <td>...</td>\n",
       "      <td>...</td>\n",
       "      <td>...</td>\n",
       "      <td>...</td>\n",
       "      <td>...</td>\n",
       "      <td>...</td>\n",
       "      <td>...</td>\n",
       "      <td>...</td>\n",
       "    </tr>\n",
       "    <tr>\n",
       "      <th>2234</th>\n",
       "      <td>1</td>\n",
       "      <td>1</td>\n",
       "      <td>34421.0</td>\n",
       "      <td>81</td>\n",
       "      <td>3</td>\n",
       "      <td>3</td>\n",
       "      <td>6</td>\n",
       "      <td>2</td>\n",
       "      <td>9</td>\n",
       "      <td>1</td>\n",
       "      <td>1</td>\n",
       "      <td>2</td>\n",
       "      <td>47</td>\n",
       "      <td>1</td>\n",
       "      <td>0</td>\n",
       "    </tr>\n",
       "    <tr>\n",
       "      <th>2235</th>\n",
       "      <td>1</td>\n",
       "      <td>1</td>\n",
       "      <td>61223.0</td>\n",
       "      <td>46</td>\n",
       "      <td>709</td>\n",
       "      <td>43</td>\n",
       "      <td>42</td>\n",
       "      <td>118</td>\n",
       "      <td>247</td>\n",
       "      <td>2</td>\n",
       "      <td>9</td>\n",
       "      <td>4</td>\n",
       "      <td>54</td>\n",
       "      <td>1</td>\n",
       "      <td>0</td>\n",
       "    </tr>\n",
       "    <tr>\n",
       "      <th>2236</th>\n",
       "      <td>2</td>\n",
       "      <td>1</td>\n",
       "      <td>64014.0</td>\n",
       "      <td>56</td>\n",
       "      <td>406</td>\n",
       "      <td>0</td>\n",
       "      <td>0</td>\n",
       "      <td>0</td>\n",
       "      <td>8</td>\n",
       "      <td>7</td>\n",
       "      <td>8</td>\n",
       "      <td>5</td>\n",
       "      <td>75</td>\n",
       "      <td>3</td>\n",
       "      <td>0</td>\n",
       "    </tr>\n",
       "    <tr>\n",
       "      <th>2238</th>\n",
       "      <td>2</td>\n",
       "      <td>1</td>\n",
       "      <td>69245.0</td>\n",
       "      <td>8</td>\n",
       "      <td>428</td>\n",
       "      <td>30</td>\n",
       "      <td>80</td>\n",
       "      <td>30</td>\n",
       "      <td>61</td>\n",
       "      <td>2</td>\n",
       "      <td>6</td>\n",
       "      <td>10</td>\n",
       "      <td>65</td>\n",
       "      <td>1</td>\n",
       "      <td>0</td>\n",
       "    </tr>\n",
       "    <tr>\n",
       "      <th>2239</th>\n",
       "      <td>2</td>\n",
       "      <td>1</td>\n",
       "      <td>52869.0</td>\n",
       "      <td>40</td>\n",
       "      <td>84</td>\n",
       "      <td>3</td>\n",
       "      <td>2</td>\n",
       "      <td>1</td>\n",
       "      <td>21</td>\n",
       "      <td>3</td>\n",
       "      <td>3</td>\n",
       "      <td>4</td>\n",
       "      <td>67</td>\n",
       "      <td>2</td>\n",
       "      <td>1</td>\n",
       "    </tr>\n",
       "  </tbody>\n",
       "</table>\n",
       "<p>2000 rows × 15 columns</p>\n",
       "</div>"
      ],
      "text/plain": [
       "      Education  Marital_Status   Income  Recency  MntWines  MntFruits  \\\n",
       "0             1               0  58138.0       58       635         88   \n",
       "1             1               0  46344.0       38        11          1   \n",
       "2             1               1  71613.0       26       426         49   \n",
       "3             1               1  26646.0       26        11          4   \n",
       "5             2               1  62513.0       16       520         42   \n",
       "...         ...             ...      ...      ...       ...        ...   \n",
       "2234          1               1  34421.0       81         3          3   \n",
       "2235          1               1  61223.0       46       709         43   \n",
       "2236          2               1  64014.0       56       406          0   \n",
       "2238          2               1  69245.0        8       428         30   \n",
       "2239          2               1  52869.0       40        84          3   \n",
       "\n",
       "      MntFishProducts  MntSweetProducts  MntGoldProds  NumDealsPurchases  \\\n",
       "0                 172                88            88                  3   \n",
       "1                   2                 1             6                  2   \n",
       "2                 111                21            42                  1   \n",
       "3                  10                 3             5                  2   \n",
       "5                   0                42            14                  2   \n",
       "...               ...               ...           ...                ...   \n",
       "2234                6                 2             9                  1   \n",
       "2235               42               118           247                  2   \n",
       "2236                0                 0             8                  7   \n",
       "2238               80                30            61                  2   \n",
       "2239                2                 1            21                  3   \n",
       "\n",
       "      NumWebPurchases  NumStorePurchases  age  child  Response  \n",
       "0                   8                  4   64      0         1  \n",
       "1                   1                  2   67      2         0  \n",
       "2                   8                 10   56      0         0  \n",
       "3                   2                  4   37      1         0  \n",
       "5                   6                 10   54      1         0  \n",
       "...               ...                ...  ...    ...       ...  \n",
       "2234                1                  2   47      1         0  \n",
       "2235                9                  4   54      1         0  \n",
       "2236                8                  5   75      3         0  \n",
       "2238                6                 10   65      1         0  \n",
       "2239                3                  4   67      2         1  \n",
       "\n",
       "[2000 rows x 15 columns]"
      ]
     },
     "execution_count": 9,
     "metadata": {},
     "output_type": "execute_result"
    }
   ],
   "source": [
    "# 7. Create a new dataframe for analysis without unneeded columns\n",
    "df_consumer = df[['Education','Marital_Status','Income','Recency','MntWines','MntFruits','MntFishProducts',\n",
    "                  'MntSweetProducts','MntGoldProds','NumDealsPurchases','NumWebPurchases','NumStorePurchases',\n",
    "                  'age','child','Response']]\n",
    "df_consumer"
   ]
  },
  {
   "cell_type": "markdown",
   "id": "9585e325",
   "metadata": {},
   "source": [
    "#### Result: After cleaning the dataset by dropping missing values and outlier, we have a total of 2,000 observations. "
   ]
  },
  {
   "cell_type": "markdown",
   "id": "c8e1c1c0",
   "metadata": {},
   "source": [
    "<h2 style=\"color:orange\" > 3. Research Question & Learning Model </h2>\n",
    "\n",
    "**Research Question:** With the Customer Personality Analysis dataset, we aim to help business to identify potential customers who will most likely to react in the marketing campaign. Helping business understand more about its customer group and characteristics can make the campaign more successful and targeted. \n",
    "\n",
    "**What we want to learn from the data:** We want to learn how different clusters of customers respond to the campaign and the personalities of each clusters, which will help us do better future marketing. By applying different learning models, we want to predict which customers will response to marketing campaign. \n",
    "\n",
    "**Learning Models:** With this dataset, we planned to perform different learning models. We want to apply clustering to divide customers in different personality groups and also apply knn to predict customer's response to marketing campaign."
   ]
  },
  {
   "cell_type": "markdown",
   "id": "080bef8d",
   "metadata": {},
   "source": [
    "Predict **'Response'** column using following features:\n",
    "   * **Education**\n",
    "   * **Marital_Status**\n",
    "   * **Income**\n",
    "   * **Recency**\n",
    "   * **MntWines**\n",
    "   * **MntFruits**\n",
    "   * **MntFishProducts**\n",
    "   * **MntSweetProducts**\n",
    "   * **MntGoldProds**\n",
    "   * **NumDealsPurchases**\n",
    "   * **NumWebPurchases**\n",
    "   * **NumStorePurchases**\n",
    "   * **age**\n",
    "   * **child**"
   ]
  },
  {
   "cell_type": "markdown",
   "id": "c54ecad2",
   "metadata": {},
   "source": [
    "<h2 style=\"color:orange\" > 4. Current Expectation </h2>\n",
    "\n",
    "Before analyzing the model, we expect that the customer may have different demands depending on the education, income, the number of family members(with kids), and marital status. For instance, customers living alone may have fewer living expenses than customers who are married. The customers who have more children may purchase a higher amount of sweets and have relatively short recency. The high-income customers may spend more money on wines and gold in stores. The customers who are more educated may have more Web purchases. We expect to have roughly 4 to 8 clusters of customers. The customers who have more family members, are middle-class, and have a lower level of education tend to accept campaigns more often.\n",
    "\n"
   ]
  },
  {
   "cell_type": "markdown",
   "id": "ab67b1d0",
   "metadata": {},
   "source": [
    "<h2 style=\"color:orange\" > 5. Project Evaluation </h2>\n",
    "\n",
    "To evaluate our project, we will employ visualization and plot our results from different learning models. \n",
    "\n",
    "To access the correctness of our models, we implement a new model with outliers to compare with our clustering model, and we test different k values to compare their accuaries. \n",
    "\n",
    "We expect we will have 4 to 8 clusters representing different behaviors for customers and an accuary of around 80% for predicting whether customer response in the market campaign or not. "
   ]
  },
  {
   "cell_type": "markdown",
   "id": "fe637dd7",
   "metadata": {},
   "source": [
    "<h2 style=\"color:orange\" > 6. Implementation </h2>"
   ]
  },
  {
   "cell_type": "markdown",
   "id": "5a9a6678",
   "metadata": {},
   "source": [
    "<h2 style=\"color:orange\" >6.1. Clustering with DBSCAN"
   ]
  },
  {
   "cell_type": "code",
   "execution_count": 10,
   "id": "ee9f8120",
   "metadata": {},
   "outputs": [],
   "source": [
    "# clustering\n",
    "from sklearn.cluster import DBSCAN\n",
    "y = df_consumer['Response']\n",
    "X = df_consumer[['Education','Marital_Status','Income','Recency','MntWines','MntFruits','MntFishProducts',\n",
    "                  'MntSweetProducts','MntGoldProds','NumDealsPurchases','NumWebPurchases','NumStorePurchases',\n",
    "                  'age','child']].to_numpy()\n",
    "clustering = DBSCAN(eps=500, min_samples=10).fit(X)"
   ]
  },
  {
   "cell_type": "code",
   "execution_count": 11,
   "id": "81c0f215",
   "metadata": {},
   "outputs": [],
   "source": [
    "# visualize the result from scikit-learn lib\n",
    "labels = clustering.labels_\n",
    "sk_df = df_consumer.copy()\n",
    "sk_df['Assigned To'] = labels\n",
    "\n",
    "#u_labels = np.unique(sk_df['Assigned To']) \n",
    "\n",
    "#for i in u_labels:\n",
    " #   label = sk_df['Assigned To']\n",
    "  #  x = sk_df[label == i].drop(['Response', 'Assigned To','Income'], axis=1).to_numpy()[:,4]\n",
    "   # y = sk_df[label == i]['Income']\n",
    "    #plt.scatter(x , y , label = i)\n",
    "#plt.title('DBScan Scatter Plot with Color Representing Clusters with scikit-learn library')\n",
    "#plt.xlabel('x')\n",
    "#plt.ylabel('y')\n",
    "#plt.legend()\n",
    "#plt.show()"
   ]
  },
  {
   "cell_type": "markdown",
   "id": "2f81c896",
   "metadata": {},
   "source": [
    "### Visulization with sns"
   ]
  },
  {
   "cell_type": "code",
   "execution_count": 12,
   "id": "fc360250",
   "metadata": {
    "scrolled": true
   },
   "outputs": [],
   "source": [
    "import seaborn as sns"
   ]
  },
  {
   "cell_type": "code",
   "execution_count": 41,
   "id": "16aff6e4",
   "metadata": {
    "scrolled": true
   },
   "outputs": [
    {
     "data": {
      "image/png": "[encoded data removed]",
      "text/plain": [
       "<Figure size 432x288 with 1 Axes>"
      ]
     },
     "metadata": {
      "needs_background": "light"
     },
     "output_type": "display_data"
    },
    {
     "data": {
      "image/png": "[encoded data removed]",
      "text/plain": [
       "<Figure size 432x288 with 1 Axes>"
      ]
     },
     "metadata": {
      "needs_background": "light"
     },
     "output_type": "display_data"
    },
    {
     "data": {
      "image/png": "[encoded data removed]",
      "text/plain": [
       "<Figure size 432x288 with 1 Axes>"
      ]
     },
     "metadata": {
      "needs_background": "light"
     },
     "output_type": "display_data"
    },
    {
     "data": {
      "image/png": "[encoded data removed]",
      "text/plain": [
       "<Figure size 432x288 with 1 Axes>"
      ]
     },
     "metadata": {
      "needs_background": "light"
     },
     "output_type": "display_data"
    },
    {
     "data": {
      "image/png": "[encoded data removed]",
      "text/plain": [
       "<Figure size 432x288 with 1 Axes>"
      ]
     },
     "metadata": {
      "needs_background": "light"
     },
     "output_type": "display_data"
    },
    {
     "data": {
      "image/png": "[encoded data removed]",
      "text/plain": [
       "<Figure size 432x288 with 1 Axes>"
      ]
     },
     "metadata": {
      "needs_background": "light"
     },
     "output_type": "display_data"
    },
    {
     "data": {
      "image/png": "[encoded data removed]",
      "text/plain": [
       "<Figure size 432x288 with 1 Axes>"
      ]
     },
     "metadata": {
      "needs_background": "light"
     },
     "output_type": "display_data"
    },
    {
     "data": {
      "image/png": "[encoded data removed]",
      "text/plain": [
       "<Figure size 432x288 with 1 Axes>"
      ]
     },
     "metadata": {
      "needs_background": "light"
     },
     "output_type": "display_data"
    },
    {
     "data": {
      "image/png": "[encoded data removed]",
      "text/plain": [
       "<Figure size 432x288 with 1 Axes>"
      ]
     },
     "metadata": {
      "needs_background": "light"
     },
     "output_type": "display_data"
    },
    {
     "data": {
      "image/png": "[encoded data removed]",
      "text/plain": [
       "<Figure size 432x288 with 1 Axes>"
      ]
     },
     "metadata": {
      "needs_background": "light"
     },
     "output_type": "display_data"
    },
    {
     "data": {
      "image/png": "[encoded data removed]",
      "text/plain": [
       "<Figure size 432x288 with 1 Axes>"
      ]
     },
     "metadata": {
      "needs_background": "light"
     },
     "output_type": "display_data"
    }
   ],
   "source": [
    "numerical_v = ['Income', 'Recency', 'MntWines',\n",
    "       'MntFruits', 'MntFishProducts', 'MntSweetProducts', 'MntGoldProds',\n",
    "       'NumDealsPurchases', 'NumWebPurchases', 'NumStorePurchases', 'age']\n",
    "\n",
    "for i in numerical_v:\n",
    "    plt.figure()\n",
    "    sns.barplot(y=sk_df[i], x=sk_df['Assigned To'])\n",
    "    plt.show()"
   ]
  },
  {
   "cell_type": "code",
   "execution_count": 14,
   "id": "e4a88693",
   "metadata": {
    "scrolled": true
   },
   "outputs": [
    {
     "data": {
      "image/png": "[encoded data removed]",
      "text/plain": [
       "<Figure size 432x288 with 1 Axes>"
      ]
     },
     "metadata": {
      "needs_background": "light"
     },
     "output_type": "display_data"
    },
    {
     "data": {
      "image/png": "[encoded data removed]",
      "text/plain": [
       "<Figure size 432x288 with 1 Axes>"
      ]
     },
     "metadata": {
      "needs_background": "light"
     },
     "output_type": "display_data"
    },
    {
     "data": {
      "image/png": "[encoded data removed]",
      "text/plain": [
       "<Figure size 432x288 with 1 Axes>"
      ]
     },
     "metadata": {
      "needs_background": "light"
     },
     "output_type": "display_data"
    }
   ],
   "source": [
    "categorical_v = ['Education', 'Marital_Status', 'child']\n",
    "\n",
    "for i in categorical_v:\n",
    "    plt.figure()\n",
    "    sns.countplot(x=sk_df['Assigned To'], data=sk_df, hue=sk_df[i])\n",
    "    plt.show()"
   ]
  },
  {
   "cell_type": "markdown",
   "id": "60fef2e8",
   "metadata": {},
   "source": [
    "### Summary from Data Visulization\n",
    "\n",
    "**Cluster-1** outliers\n",
    "\n",
    "**Cluster0:** Low but moderate income, most likely to purchase with deals, most graduate and postgraduate education background, 2/3 of married, most have 1 or more child\n",
    "\n",
    "**Cluster1:** Low income, seldomly purchase but likely purchase with deals, mostly undergraduate education background\n",
    "\n",
    "**Cluster2:** Moderate income, over a half have no child\n",
    "\n",
    "**Cluster3:** Moderate to high income, Long time didn't purchase, over a half have no child\n",
    "\n",
    "**Cluster4:** High income, seldomly purchase deals, most postgraduate education background, most have no child, more likely to purchase on website rather than in store\n",
    "\n",
    "**Cluster 2, 3, 4 are mostly enjoy purchasing in stores and websites, but less likely with deals. Cluster 0 and 1 purchase less frequently but love to purchase with deals.** "
   ]
  },
  {
   "cell_type": "markdown",
   "id": "82588a58",
   "metadata": {},
   "source": [
    "<h2 style=\"color:orange\" > 6.2. Conduct a new analysis with the outliers"
   ]
  },
  {
   "cell_type": "markdown",
   "id": "7eaf7e9f",
   "metadata": {},
   "source": [
    "We're also interested in how the outcome would be influenced if we include the outliers. Thus, we started a new analysis and compared our results. For our dataset, we now only dropped the null value in order to successfully operate the codes."
   ]
  },
  {
   "cell_type": "markdown",
   "id": "9a75cc4e",
   "metadata": {},
   "source": [
    "### Data Cleaning"
   ]
  },
  {
   "cell_type": "code",
   "execution_count": 15,
   "id": "48929512",
   "metadata": {
    "scrolled": true
   },
   "outputs": [],
   "source": [
    "df_outlier = pd.read_csv(\"marketing_campaign.csv\",sep=\"\\t\")\n",
    "#df_outlier = df.copy()\n",
    "# 1. Drop null values\n",
    "df_outlier.isnull().sum() # check which column contain null\n",
    "# Since \"Income\" column has 24 null values, we drop 24 observations\n",
    "df_outlier = df_outlier.dropna()\n",
    "\n",
    "# 2. Convert categorical features to numerical values\n",
    "df_outlier['Marital_Status'].replace(to_replace=['Single','Alone','Divorced','Absurd','YOLO','Widow'], \n",
    "                             value=[0,0,0,0,0,0],inplace=True)\n",
    "df_outlier['Marital_Status'].replace(to_replace=['Married','Together'], value=[1,1],inplace=True)\n",
    "# Divided into 2 groups\n",
    "# 0: 'Single','Alone','Divorced','Absurd','YOLO','Widow'\n",
    "# 1: 'Married','Together'\n",
    "\n",
    "df_outlier['Education'].replace(to_replace=['Basic','2n Cycle','Graduation','Master','PhD'], value=[0,0,1,2,2],inplace=True)\n",
    "# Basic: 0, 2n Cycle: 0, (Undergraduate)\n",
    "# Graduation: 1, (Graduate)\n",
    "# Master: 2, PhD: 2 (Postgraduate)\n",
    "\n",
    "# 3. Create a age column\n",
    "age = []\n",
    "for i in df_outlier['Year_Birth']:\n",
    "    age.append(2021-i)\n",
    "df_outlier['age'] = age\n",
    "\n",
    "# 4. Combine 'Kidhome' and 'Teenhome' as one column named 'child'\n",
    "df_outlier['child'] = df_outlier.Kidhome.values + df_outlier.Teenhome.values\n",
    "\n",
    "# 5. Create a new dataframe for analysis without unneeded columns\n",
    "df_consumer_outlier = df_outlier[['Education','Marital_Status','Income','Recency','MntWines','MntFruits','MntFishProducts',\n",
    "                  'MntSweetProducts','MntGoldProds','NumDealsPurchases','NumWebPurchases','NumStorePurchases',\n",
    "                  'age','child','Response']]"
   ]
  },
  {
   "cell_type": "markdown",
   "id": "7a849215",
   "metadata": {},
   "source": [
    "## Clustering with Outliers"
   ]
  },
  {
   "cell_type": "code",
   "execution_count": 16,
   "id": "51a17dcf",
   "metadata": {},
   "outputs": [],
   "source": [
    "# clustering\n",
    "from sklearn.cluster import DBSCAN\n",
    "new_y = df_consumer_outlier['Response']\n",
    "new_X = df_consumer_outlier[['Education','Marital_Status','Income','Recency','MntWines','MntFruits','MntFishProducts',\n",
    "                  'MntSweetProducts','MntGoldProds','NumDealsPurchases','NumWebPurchases','NumStorePurchases',\n",
    "                  'age','child']].to_numpy()\n",
    "new_clustering = DBSCAN(eps=500, min_samples=10).fit(new_X)"
   ]
  },
  {
   "cell_type": "code",
   "execution_count": 17,
   "id": "fcf9a686",
   "metadata": {},
   "outputs": [],
   "source": [
    "new_labels = new_clustering.labels_\n",
    "new_sk_df = df_consumer_outlier.copy()\n",
    "new_sk_df['Assigned To'] = new_labels"
   ]
  },
  {
   "cell_type": "markdown",
   "id": "87c3a267",
   "metadata": {},
   "source": [
    "### Visulization with sns"
   ]
  },
  {
   "cell_type": "code",
   "execution_count": 18,
   "id": "cbbf4479",
   "metadata": {},
   "outputs": [
    {
     "data": {
      "image/png": "[encoded data removed]",
      "text/plain": [
       "<Figure size 432x288 with 1 Axes>"
      ]
     },
     "metadata": {
      "needs_background": "light"
     },
     "output_type": "display_data"
    },
    {
     "data": {
      "image/png": "[encoded data removed]",
      "text/plain": [
       "<Figure size 432x288 with 1 Axes>"
      ]
     },
     "metadata": {
      "needs_background": "light"
     },
     "output_type": "display_data"
    },
    {
     "data": {
      "image/png": "[encoded data removed]",
      "text/plain": [
       "<Figure size 432x288 with 1 Axes>"
      ]
     },
     "metadata": {
      "needs_background": "light"
     },
     "output_type": "display_data"
    },
    {
     "data": {
      "image/png": "[encoded data removed]",
      "text/plain": [
       "<Figure size 432x288 with 1 Axes>"
      ]
     },
     "metadata": {
      "needs_background": "light"
     },
     "output_type": "display_data"
    },
    {
     "data": {
      "image/png": "[encoded data removed]",
      "text/plain": [
       "<Figure size 432x288 with 1 Axes>"
      ]
     },
     "metadata": {
      "needs_background": "light"
     },
     "output_type": "display_data"
    },
    {
     "data": {
      "image/png": "[encoded data removed]",
      "text/plain": [
       "<Figure size 432x288 with 1 Axes>"
      ]
     },
     "metadata": {
      "needs_background": "light"
     },
     "output_type": "display_data"
    },
    {
     "data": {
      "image/png": "[encoded data removed]",
      "text/plain": [
       "<Figure size 432x288 with 1 Axes>"
      ]
     },
     "metadata": {
      "needs_background": "light"
     },
     "output_type": "display_data"
    },
    {
     "data": {
      "image/png": "[encoded data removed]",
      "text/plain": [
       "<Figure size 432x288 with 1 Axes>"
      ]
     },
     "metadata": {
      "needs_background": "light"
     },
     "output_type": "display_data"
    },
    {
     "data": {
      "image/png": "[encoded data removed]",
      "text/plain": [
       "<Figure size 432x288 with 1 Axes>"
      ]
     },
     "metadata": {
      "needs_background": "light"
     },
     "output_type": "display_data"
    },
    {
     "data": {
      "image/png": "[encoded data removed]",
      "text/plain": [
       "<Figure size 432x288 with 1 Axes>"
      ]
     },
     "metadata": {
      "needs_background": "light"
     },
     "output_type": "display_data"
    },
    {
     "data": {
      "image/png": "[encoded data removed]",
      "text/plain": [
       "<Figure size 432x288 with 1 Axes>"
      ]
     },
     "metadata": {
      "needs_background": "light"
     },
     "output_type": "display_data"
    }
   ],
   "source": [
    "new_numerical_v = ['Income', 'Recency', 'MntWines',\n",
    "       'MntFruits', 'MntFishProducts', 'MntSweetProducts', 'MntGoldProds',\n",
    "       'NumDealsPurchases', 'NumWebPurchases', 'NumStorePurchases', 'age']\n",
    "\n",
    "for i in new_numerical_v:\n",
    "    plt.figure()\n",
    "    sns.barplot(y=new_sk_df[i], x=new_sk_df['Assigned To'])\n",
    "    plt.show()"
   ]
  },
  {
   "cell_type": "code",
   "execution_count": 19,
   "id": "e5574bd3",
   "metadata": {},
   "outputs": [
    {
     "data": {
      "image/png": "[encoded data removed]",
      "text/plain": [
       "<Figure size 432x288 with 1 Axes>"
      ]
     },
     "metadata": {
      "needs_background": "light"
     },
     "output_type": "display_data"
    },
    {
     "data": {
      "image/png": "[encoded data removed]",
      "text/plain": [
       "<Figure size 432x288 with 1 Axes>"
      ]
     },
     "metadata": {
      "needs_background": "light"
     },
     "output_type": "display_data"
    },
    {
     "data": {
      "image/png": "[encoded data removed]",
      "text/plain": [
       "<Figure size 432x288 with 1 Axes>"
      ]
     },
     "metadata": {
      "needs_background": "light"
     },
     "output_type": "display_data"
    }
   ],
   "source": [
    "new_categorical_v = ['Education', 'Marital_Status', 'child']\n",
    "\n",
    "for i in new_categorical_v:\n",
    "    plt.figure()\n",
    "    sns.countplot(x=new_sk_df['Assigned To'], data=new_sk_df, hue=new_sk_df[i])\n",
    "    plt.show()"
   ]
  },
  {
   "cell_type": "markdown",
   "id": "2dd93cb8",
   "metadata": {},
   "source": [
    "### Summary from Data Visulization\n",
    "### With Outliers\n",
    "\n",
    "\n",
    "**Findings**\n",
    "\n",
    "The Cluster 0 customers are generally not influenced by the outliers, but we might overestimate their purchasing power. According to our plot, Cluster 1 customers tend to purchase more with a discount rather than them. Cluster 0 may not respond to the marketing campaign as actively as we thought before, even though there's a discount. \n",
    "\n",
    "One interesting thing about cluster 1 customers is that this group has significant differences in buying gold products, discounts, and online shopping. Since cluster 1 customers' choices are more variable than expected, their business behavior is more difficult to predict.\n",
    "\n",
    "Cluster 2 with outliers actually enters into a high-income group and spends much less on every kind of product. This cluster also has a higher level of education than we thought. As they are relatively older, cluster 2 customers may have less living expenses, tend to purchase more in stores, and want to save money for their descendants. \n",
    "\n",
    "Both cluster 3 and cluster 4 are not affected by the outliers primarily. The front one is reasonable as cluster 3 customers fall on the intermediate group in nearly every aspect. For cluster 4, we know that there's only one outlier in the high-income group according to our data cleaning process. Thus, there's no apparent difference between these two clusters.\n",
    "\n",
    "\n"
   ]
  },
  {
   "cell_type": "markdown",
   "id": "c92e3753",
   "metadata": {},
   "source": [
    "<h2 style=\"color:orange\" >6.3. Classification"
   ]
  },
  {
   "cell_type": "markdown",
   "id": "d4687c6d",
   "metadata": {},
   "source": [
    "### Normalize all the attibutes to be between [0,1]"
   ]
  },
  {
   "cell_type": "code",
   "execution_count": 20,
   "id": "e32f6e06",
   "metadata": {},
   "outputs": [],
   "source": [
    "df_nor = df_consumer.copy()"
   ]
  },
  {
   "cell_type": "code",
   "execution_count": 21,
   "id": "452efc05",
   "metadata": {},
   "outputs": [],
   "source": [
    "target_col = 'Response'"
   ]
  },
  {
   "cell_type": "code",
   "execution_count": 22,
   "id": "77d5bb0b",
   "metadata": {},
   "outputs": [],
   "source": [
    "dict_normalize = dict()\n",
    "for col in df_nor.columns:\n",
    "    if col != target_col:\n",
    "        dict_normalize[col] = (df_nor[col].min(), df_nor[col].max())\n",
    "        df_nor[col] = (df_nor[col] - dict_normalize[col][0])/(dict_normalize[col][1]-dict_normalize[col][0])"
   ]
  },
  {
   "cell_type": "code",
   "execution_count": 23,
   "id": "57a26c1b",
   "metadata": {},
   "outputs": [
    {
     "data": {
      "text/html": [
       "<div>\n",
       "<style scoped>\n",
       "    .dataframe tbody tr th:only-of-type {\n",
       "        vertical-align: middle;\n",
       "    }\n",
       "\n",
       "    .dataframe tbody tr th {\n",
       "        vertical-align: top;\n",
       "    }\n",
       "\n",
       "    .dataframe thead th {\n",
       "        text-align: right;\n",
       "    }\n",
       "</style>\n",
       "<table border=\"1\" class=\"dataframe\">\n",
       "  <thead>\n",
       "    <tr style=\"text-align: right;\">\n",
       "      <th></th>\n",
       "      <th>Education</th>\n",
       "      <th>Marital_Status</th>\n",
       "      <th>Income</th>\n",
       "      <th>Recency</th>\n",
       "      <th>MntWines</th>\n",
       "      <th>MntFruits</th>\n",
       "      <th>MntFishProducts</th>\n",
       "      <th>MntSweetProducts</th>\n",
       "      <th>MntGoldProds</th>\n",
       "      <th>NumDealsPurchases</th>\n",
       "      <th>NumWebPurchases</th>\n",
       "      <th>NumStorePurchases</th>\n",
       "      <th>age</th>\n",
       "      <th>child</th>\n",
       "      <th>Response</th>\n",
       "    </tr>\n",
       "  </thead>\n",
       "  <tbody>\n",
       "    <tr>\n",
       "      <th>0</th>\n",
       "      <td>0.5</td>\n",
       "      <td>0.0</td>\n",
       "      <td>0.351086</td>\n",
       "      <td>0.651685</td>\n",
       "      <td>0.425318</td>\n",
       "      <td>0.442211</td>\n",
       "      <td>0.664093</td>\n",
       "      <td>0.335878</td>\n",
       "      <td>0.274143</td>\n",
       "      <td>0.200000</td>\n",
       "      <td>0.296296</td>\n",
       "      <td>0.307692</td>\n",
       "      <td>0.378641</td>\n",
       "      <td>0.000000</td>\n",
       "      <td>1</td>\n",
       "    </tr>\n",
       "    <tr>\n",
       "      <th>1</th>\n",
       "      <td>0.5</td>\n",
       "      <td>0.0</td>\n",
       "      <td>0.277680</td>\n",
       "      <td>0.426966</td>\n",
       "      <td>0.007368</td>\n",
       "      <td>0.005025</td>\n",
       "      <td>0.007722</td>\n",
       "      <td>0.003817</td>\n",
       "      <td>0.018692</td>\n",
       "      <td>0.133333</td>\n",
       "      <td>0.037037</td>\n",
       "      <td>0.153846</td>\n",
       "      <td>0.407767</td>\n",
       "      <td>0.666667</td>\n",
       "      <td>0</td>\n",
       "    </tr>\n",
       "    <tr>\n",
       "      <th>2</th>\n",
       "      <td>0.5</td>\n",
       "      <td>1.0</td>\n",
       "      <td>0.434956</td>\n",
       "      <td>0.292135</td>\n",
       "      <td>0.285332</td>\n",
       "      <td>0.246231</td>\n",
       "      <td>0.428571</td>\n",
       "      <td>0.080153</td>\n",
       "      <td>0.130841</td>\n",
       "      <td>0.066667</td>\n",
       "      <td>0.296296</td>\n",
       "      <td>0.769231</td>\n",
       "      <td>0.300971</td>\n",
       "      <td>0.000000</td>\n",
       "      <td>0</td>\n",
       "    </tr>\n",
       "    <tr>\n",
       "      <th>3</th>\n",
       "      <td>0.5</td>\n",
       "      <td>1.0</td>\n",
       "      <td>0.155079</td>\n",
       "      <td>0.292135</td>\n",
       "      <td>0.007368</td>\n",
       "      <td>0.020101</td>\n",
       "      <td>0.038610</td>\n",
       "      <td>0.011450</td>\n",
       "      <td>0.015576</td>\n",
       "      <td>0.133333</td>\n",
       "      <td>0.074074</td>\n",
       "      <td>0.307692</td>\n",
       "      <td>0.116505</td>\n",
       "      <td>0.333333</td>\n",
       "      <td>0</td>\n",
       "    </tr>\n",
       "    <tr>\n",
       "      <th>5</th>\n",
       "      <td>1.0</td>\n",
       "      <td>1.0</td>\n",
       "      <td>0.378317</td>\n",
       "      <td>0.179775</td>\n",
       "      <td>0.348292</td>\n",
       "      <td>0.211055</td>\n",
       "      <td>0.000000</td>\n",
       "      <td>0.160305</td>\n",
       "      <td>0.043614</td>\n",
       "      <td>0.133333</td>\n",
       "      <td>0.222222</td>\n",
       "      <td>0.769231</td>\n",
       "      <td>0.281553</td>\n",
       "      <td>0.333333</td>\n",
       "      <td>0</td>\n",
       "    </tr>\n",
       "    <tr>\n",
       "      <th>...</th>\n",
       "      <td>...</td>\n",
       "      <td>...</td>\n",
       "      <td>...</td>\n",
       "      <td>...</td>\n",
       "      <td>...</td>\n",
       "      <td>...</td>\n",
       "      <td>...</td>\n",
       "      <td>...</td>\n",
       "      <td>...</td>\n",
       "      <td>...</td>\n",
       "      <td>...</td>\n",
       "      <td>...</td>\n",
       "      <td>...</td>\n",
       "      <td>...</td>\n",
       "      <td>...</td>\n",
       "    </tr>\n",
       "    <tr>\n",
       "      <th>2234</th>\n",
       "      <td>0.5</td>\n",
       "      <td>1.0</td>\n",
       "      <td>0.203471</td>\n",
       "      <td>0.910112</td>\n",
       "      <td>0.002009</td>\n",
       "      <td>0.015075</td>\n",
       "      <td>0.023166</td>\n",
       "      <td>0.007634</td>\n",
       "      <td>0.028037</td>\n",
       "      <td>0.066667</td>\n",
       "      <td>0.037037</td>\n",
       "      <td>0.153846</td>\n",
       "      <td>0.213592</td>\n",
       "      <td>0.333333</td>\n",
       "      <td>0</td>\n",
       "    </tr>\n",
       "    <tr>\n",
       "      <th>2235</th>\n",
       "      <td>0.5</td>\n",
       "      <td>1.0</td>\n",
       "      <td>0.370288</td>\n",
       "      <td>0.516854</td>\n",
       "      <td>0.474883</td>\n",
       "      <td>0.216080</td>\n",
       "      <td>0.162162</td>\n",
       "      <td>0.450382</td>\n",
       "      <td>0.769470</td>\n",
       "      <td>0.133333</td>\n",
       "      <td>0.333333</td>\n",
       "      <td>0.307692</td>\n",
       "      <td>0.281553</td>\n",
       "      <td>0.333333</td>\n",
       "      <td>0</td>\n",
       "    </tr>\n",
       "    <tr>\n",
       "      <th>2236</th>\n",
       "      <td>1.0</td>\n",
       "      <td>1.0</td>\n",
       "      <td>0.387659</td>\n",
       "      <td>0.629213</td>\n",
       "      <td>0.271936</td>\n",
       "      <td>0.000000</td>\n",
       "      <td>0.000000</td>\n",
       "      <td>0.000000</td>\n",
       "      <td>0.024922</td>\n",
       "      <td>0.466667</td>\n",
       "      <td>0.296296</td>\n",
       "      <td>0.384615</td>\n",
       "      <td>0.485437</td>\n",
       "      <td>1.000000</td>\n",
       "      <td>0</td>\n",
       "    </tr>\n",
       "    <tr>\n",
       "      <th>2238</th>\n",
       "      <td>1.0</td>\n",
       "      <td>1.0</td>\n",
       "      <td>0.420217</td>\n",
       "      <td>0.089888</td>\n",
       "      <td>0.286671</td>\n",
       "      <td>0.150754</td>\n",
       "      <td>0.308880</td>\n",
       "      <td>0.114504</td>\n",
       "      <td>0.190031</td>\n",
       "      <td>0.133333</td>\n",
       "      <td>0.222222</td>\n",
       "      <td>0.769231</td>\n",
       "      <td>0.388350</td>\n",
       "      <td>0.333333</td>\n",
       "      <td>0</td>\n",
       "    </tr>\n",
       "    <tr>\n",
       "      <th>2239</th>\n",
       "      <td>1.0</td>\n",
       "      <td>1.0</td>\n",
       "      <td>0.318292</td>\n",
       "      <td>0.449438</td>\n",
       "      <td>0.056263</td>\n",
       "      <td>0.015075</td>\n",
       "      <td>0.007722</td>\n",
       "      <td>0.003817</td>\n",
       "      <td>0.065421</td>\n",
       "      <td>0.200000</td>\n",
       "      <td>0.111111</td>\n",
       "      <td>0.307692</td>\n",
       "      <td>0.407767</td>\n",
       "      <td>0.666667</td>\n",
       "      <td>1</td>\n",
       "    </tr>\n",
       "  </tbody>\n",
       "</table>\n",
       "<p>2000 rows × 15 columns</p>\n",
       "</div>"
      ],
      "text/plain": [
       "      Education  Marital_Status    Income   Recency  MntWines  MntFruits  \\\n",
       "0           0.5             0.0  0.351086  0.651685  0.425318   0.442211   \n",
       "1           0.5             0.0  0.277680  0.426966  0.007368   0.005025   \n",
       "2           0.5             1.0  0.434956  0.292135  0.285332   0.246231   \n",
       "3           0.5             1.0  0.155079  0.292135  0.007368   0.020101   \n",
       "5           1.0             1.0  0.378317  0.179775  0.348292   0.211055   \n",
       "...         ...             ...       ...       ...       ...        ...   \n",
       "2234        0.5             1.0  0.203471  0.910112  0.002009   0.015075   \n",
       "2235        0.5             1.0  0.370288  0.516854  0.474883   0.216080   \n",
       "2236        1.0             1.0  0.387659  0.629213  0.271936   0.000000   \n",
       "2238        1.0             1.0  0.420217  0.089888  0.286671   0.150754   \n",
       "2239        1.0             1.0  0.318292  0.449438  0.056263   0.015075   \n",
       "\n",
       "      MntFishProducts  MntSweetProducts  MntGoldProds  NumDealsPurchases  \\\n",
       "0            0.664093          0.335878      0.274143           0.200000   \n",
       "1            0.007722          0.003817      0.018692           0.133333   \n",
       "2            0.428571          0.080153      0.130841           0.066667   \n",
       "3            0.038610          0.011450      0.015576           0.133333   \n",
       "5            0.000000          0.160305      0.043614           0.133333   \n",
       "...               ...               ...           ...                ...   \n",
       "2234         0.023166          0.007634      0.028037           0.066667   \n",
       "2235         0.162162          0.450382      0.769470           0.133333   \n",
       "2236         0.000000          0.000000      0.024922           0.466667   \n",
       "2238         0.308880          0.114504      0.190031           0.133333   \n",
       "2239         0.007722          0.003817      0.065421           0.200000   \n",
       "\n",
       "      NumWebPurchases  NumStorePurchases       age     child  Response  \n",
       "0            0.296296           0.307692  0.378641  0.000000         1  \n",
       "1            0.037037           0.153846  0.407767  0.666667         0  \n",
       "2            0.296296           0.769231  0.300971  0.000000         0  \n",
       "3            0.074074           0.307692  0.116505  0.333333         0  \n",
       "5            0.222222           0.769231  0.281553  0.333333         0  \n",
       "...               ...                ...       ...       ...       ...  \n",
       "2234         0.037037           0.153846  0.213592  0.333333         0  \n",
       "2235         0.333333           0.307692  0.281553  0.333333         0  \n",
       "2236         0.296296           0.384615  0.485437  1.000000         0  \n",
       "2238         0.222222           0.769231  0.388350  0.333333         0  \n",
       "2239         0.111111           0.307692  0.407767  0.666667         1  \n",
       "\n",
       "[2000 rows x 15 columns]"
      ]
     },
     "execution_count": 23,
     "metadata": {},
     "output_type": "execute_result"
    }
   ],
   "source": [
    "df_nor"
   ]
  },
  {
   "cell_type": "markdown",
   "id": "f2978e62",
   "metadata": {},
   "source": [
    "### Create Testing Set and Training Set"
   ]
  },
  {
   "cell_type": "code",
   "execution_count": 24,
   "id": "643eec75",
   "metadata": {},
   "outputs": [],
   "source": [
    "from sklearn.model_selection import train_test_split\n",
    "\n",
    "# Testing: 30%, Training: 70%\n",
    "X_train, X_test, y_train, y_test = train_test_split(df_nor, df_nor['Response'], test_size=0.3, random_state=1)"
   ]
  },
  {
   "cell_type": "markdown",
   "id": "211b336c",
   "metadata": {},
   "source": [
    "### Implement using sklearn.neighbors.KNeighborsClassifier\n",
    "\n",
    "#### Source: Professor Kia's Code-Example-018-kNN.ipynb https://github.com/kiat/Elements-of-Data-Analytics/blob/main/Code-Example-018-kNN.ipynb"
   ]
  },
  {
   "cell_type": "code",
   "execution_count": 25,
   "id": "e76f59fc",
   "metadata": {},
   "outputs": [],
   "source": [
    "ytrain = np.array(y_train).astype('int')\n",
    "ytest = np.array(y_test).astype('int')"
   ]
  },
  {
   "cell_type": "code",
   "execution_count": 26,
   "id": "d3825588",
   "metadata": {},
   "outputs": [],
   "source": [
    "from sklearn.neighbors import KNeighborsClassifier\n",
    "# https://scikit-learn.org/stable/modules/generated/sklearn.neighbors.KNeighborsClassifier.html"
   ]
  },
  {
   "cell_type": "code",
   "execution_count": 27,
   "id": "95c56178",
   "metadata": {},
   "outputs": [],
   "source": [
    "def knn(k, X_train, X_test, ytrain, ytest):\n",
    "    neigh = KNeighborsClassifier(n_neighbors=k)\n",
    "    neigh.fit(X_train, ytrain)\n",
    "    predictions= neigh.predict(X_test)\n",
    "    correct = np.sum(predictions == ytest)\n",
    "    return correct/len(predictions)"
   ]
  },
  {
   "cell_type": "code",
   "execution_count": 28,
   "id": "ac250e55",
   "metadata": {},
   "outputs": [
    {
     "name": "stdout",
     "output_type": "stream",
     "text": [
      "k =  1 Acc= 0.7816666666666666\n",
      "k =  3 Acc= 0.8233333333333334\n",
      "k =  8 Acc= 0.8333333333333334\n",
      "k =  13 Acc= 0.8366666666666667\n",
      "k =  17 Acc= 0.8333333333333334\n",
      "k =  25 Acc= 0.8366666666666667\n",
      "k =  30 Acc= 0.83\n",
      "k =  40 Acc= 0.8266666666666667\n",
      "k =  50 Acc= 0.825\n",
      "k =  60 Acc= 0.8233333333333334\n",
      "k =  75 Acc= 0.8233333333333334\n",
      "k =  90 Acc= 0.8233333333333334\n",
      "k =  100 Acc= 0.8233333333333334\n",
      "k =  150 Acc= 0.8233333333333334\n",
      "k =  200 Acc= 0.8233333333333334\n"
     ]
    }
   ],
   "source": [
    "# We test our classification model by using various k values\n",
    "poss_k = [1,3, 8, 13,17, 25,30, 40, 50, 60, 75, 90, 100, 150, 200]\n",
    "acc_k = np.zeros(len(poss_k))\n",
    "\n",
    "acc_indx = 0\n",
    "\n",
    "for k in poss_k:\n",
    "    acc_k[acc_indx] = knn(k, X_train.drop(['Response'], axis=1), X_test.drop(['Response'], axis=1), ytrain, ytest)\n",
    "    print(\"k = \", k , \"Acc=\", acc_k[acc_indx])\n",
    "    acc_indx = acc_indx + 1"
   ]
  },
  {
   "cell_type": "code",
   "execution_count": 29,
   "id": "8d5e5bb5",
   "metadata": {},
   "outputs": [
    {
     "data": {
      "image/png": "[encoded data removed]",
      "text/plain": [
       "<Figure size 432x288 with 1 Axes>"
      ]
     },
     "metadata": {
      "needs_background": "light"
     },
     "output_type": "display_data"
    }
   ],
   "source": [
    "plt.plot(poss_k,acc_k,'g-*')\n",
    "plt.xlabel('k')\n",
    "plt.ylabel('Accuracy')\n",
    "plt.title('Accuracy on Test Set for Varied k')\n",
    "plt.grid('on')\n",
    "plt.show()"
   ]
  },
  {
   "cell_type": "markdown",
   "id": "ad81a9e4",
   "metadata": {},
   "source": [
    "### To improve the results: Select the Model with Best k-value k=13"
   ]
  },
  {
   "cell_type": "code",
   "execution_count": 30,
   "id": "a7696c4a",
   "metadata": {},
   "outputs": [
    {
     "name": "stdout",
     "output_type": "stream",
     "text": [
      "[0 0 1 0 0 0 0 0 0 0 0 0 0 0 0 0 0 0 0 0 0 0 0 1 0 0 0 0 0 0 0 0 0 1 0 0 0\n",
      " 0 0 0 0 0 0 0 0 0 0 0 0 0 0 0 0 0 0 0 0 0 1 0 0 1 0 0 0 0 0 0 0 0 0 0 0 0\n",
      " 0 0 0 0 1 1 0 0 0 0 0 0 0 0 0 0 0 0 0 0 0 0 0 0 0 0 0 0 0 0 0 0 0 0 0 0 0\n",
      " 0 0 0 0 0 0 0 0 0 0 0 0 0 0 0 0 0 0 0 0 0 0 0 0 0 0 0 0 0 0 1 0 0 0 0 0 0\n",
      " 0 0 0 0 0 0 0 1 0 0 0 0 0 0 0 0 0 0 0 0 0 0 0 0 0 0 0 0 0 0 0 0 0 0 0 0 0\n",
      " 0 0 0 0 0 0 0 0 0 0 0 0 0 0 0 0 0 0 0 0 0 0 0 0 0 0 0 0 0 0 0 0 0 0 0 0 0\n",
      " 0 0 0 0 0 0 0 0 0 0 0 0 0 0 0 0 0 0 0 0 0 0 0 0 0 0 0 0 0 0 0 0 0 0 0 0 0\n",
      " 0 0 0 0 0 0 0 0 0 0 0 0 0 0 0 0 0 0 0 0 0 0 0 0 0 0 0 0 0 0 0 0 0 0 0 0 0\n",
      " 0 0 0 0 0 0 0 0 0 0 0 0 0 0 0 0 0 0 0 0 0 0 0 0 0 0 0 0 0 0 0 0 0 0 1 0 0\n",
      " 0 1 0 0 0 0 0 0 0 0 0 0 0 0 0 0 0 1 1 0 0 0 0 0 0 0 0 0 0 0 0 0 0 0 0 0 0\n",
      " 0 0 0 0 0 0 0 0 0 0 1 0 0 0 0 0 0 0 0 0 0 0 0 0 0 0 0 0 0 0 0 0 1 0 0 0 0\n",
      " 0 0 0 0 0 0 0 0 0 0 0 0 1 0 0 0 0 0 0 0 0 0 0 0 0 0 0 0 0 0 0 0 0 0 0 0 0\n",
      " 0 0 0 0 0 0 0 0 0 0 0 0 0 0 0 0 0 0 0 0 0 0 0 0 0 0 0 0 0 0 0 0 0 0 0 0 0\n",
      " 0 0 0 0 0 0 0 0 0 0 0 0 0 0 0 1 0 0 0 0 0 0 0 0 0 0 0 0 0 0 0 0 0 0 0 0 0\n",
      " 0 0 0 0 0 0 0 0 0 0 0 0 0 0 0 0 0 0 0 0 0 0 0 0 0 0 0 0 0 0 0 0 0 0 1 0 0\n",
      " 0 0 0 0 0 0 0 0 0 0 0 0 0 0 0 0 0 0 0 0 0 0 0 0 0 0 0 0 0 0 0 0 0 0 0 0 0\n",
      " 0 0 0 0 0 0 0 0]\n",
      "\n",
      "Classification Report:\n",
      "              precision    recall  f1-score   support\n",
      "\n",
      "           0       0.84      0.99      0.91       494\n",
      "           1       0.72      0.12      0.21       106\n",
      "\n",
      "    accuracy                           0.84       600\n",
      "   macro avg       0.78      0.56      0.56       600\n",
      "weighted avg       0.82      0.84      0.79       600\n",
      "\n",
      "Accuary: 0.837\n"
     ]
    }
   ],
   "source": [
    "from sklearn.metrics import classification_report\n",
    "\n",
    "neigh = KNeighborsClassifier(n_neighbors=13)\n",
    "\n",
    "neigh.fit(X_train.drop(['Response'], axis=1), ytrain)\n",
    "\n",
    "predictions= neigh.predict(X_test.drop(['Response'], axis=1))\n",
    "\n",
    "print(predictions)\n",
    "print('')\n",
    "\n",
    "correct = np.sum(predictions == ytest)\n",
    "acc = correct/len(predictions)\n",
    "\n",
    "print('Classification Report:')\n",
    "print(classification_report(y_test,predictions))\n",
    "print('Accuary:',acc.round(3))"
   ]
  },
  {
   "cell_type": "markdown",
   "id": "0c647a00",
   "metadata": {},
   "source": [
    "In our classification report, 1 means customer accepts the offer in the campaign, while 0 means customer does not accept the offer in the campaign. \n",
    "\n",
    "We can say that our model successfully predicted that customers does not accept the offer in the campaign (precision = 0.84, close to 1). At the same time, it was less successful in correctly predicting that customers accepts the offer in the campaign (precision = 0.72).\n",
    "\n",
    "Also, our model had a strong ability to correctly predict that customers actually do not accept the offer in the campaign (recall = 0.99) but lower ability to correctly predict those who accept (recall = 0.12).\n",
    "\n",
    "The f1-score showed that after calculating the weighted importance of precision and recall, the overall effectiveness of the model is 0.91 for customers do not react in the campaign and 0.21 for those accept the offer."
   ]
  }
 ],
 "metadata": {
  "kernelspec": {
   "display_name": "Python 3 (ipykernel)",
   "language": "python",
   "name": "python3"
  },
  "language_info": {
   "codemirror_mode": {
    "name": "ipython",
    "version": 3
   },
   "file_extension": ".py",
   "mimetype": "text/x-python",
   "name": "python",
   "nbconvert_exporter": "python",
   "pygments_lexer": "ipython3",
   "version": "3.9.7"
  }
 },
 "nbformat": 4,
 "nbformat_minor": 5
}
